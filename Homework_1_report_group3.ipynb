{
 "cells": [
  {
   "cell_type": "markdown",
   "metadata": {},
   "source": [
    "[# Computational Photonics]:#\n",
    "\n",
    "[## Homework 1: Implementation of a Finite-Difference Mode Solver]:#\n",
    "\n",
    "[Author:]:#\n",
    "[| Name             | Email       |\n",
    "| -----------      | ----------- |\n",
    "| *Udit Banerjee*    |             |\n",
    "| *John Fearnhead*   |             |\n",
    "|                  |             |\n",
    "| *Yucheng Sun*      |             |\n",
    "]:#\n",
    "[Supervisor:]:#\n",
    "[>Prof. Thomas Pertsch]:#\n"
   ]
  },
  {
   "cell_type": "code",
   "execution_count": 9,
   "metadata": {},
   "outputs": [],
   "source": [
    "import numpy as np\n",
    "import scipy.sparse as sps\n",
    "from scipy.sparse.linalg import eigs"
   ]
  },
  {
   "cell_type": "markdown",
   "metadata": {},
   "source": [
    "**Table of contents**<a id='toc0_'></a>    \n",
    "- 1. [Introduction](#toc1_)    \n",
    "- 2. [Analysis and Simulation of the Problems](#toc2_)    \n",
    "  - 2.1. [Guided modes in 1+1=2D systems (TE modes)](#toc2_1_)    \n",
    "    - 2.1.1. [Discussion of physical properties of numerical solutions](#toc2_1_1_)    \n",
    "    - 2.1.2. [Discussion of numerical properties of numerical solutions](#toc2_1_2_)    \n",
    "  - 2.2. [Guided modes in 2+1=3D systems (strip waveguide) in scalar approximation](#toc2_2_)    \n",
    "    - 2.2.1. [Discussion of physical properties of numerical solutions](#toc2_2_1_)    \n",
    "    - 2.2.2. [Discussion of numerical properties of numerical solutions](#toc2_2_2_)    \n",
    "- 3. [Conclusions](#toc3_)    \n",
    "- 4. [References](#toc4_)    \n",
    "\n",
    "<!-- vscode-jupyter-toc-config\n",
    "\tnumbering=true\n",
    "\tanchor=true\n",
    "\tflat=false\n",
    "\tminLevel=2\n",
    "\tmaxLevel=6\n",
    "\t/vscode-jupyter-toc-config -->\n",
    "<!-- THIS CELL WILL BE REPLACED ON TOC UPDATE. DO NOT WRITE YOUR TEXT IN THIS CELL -->"
   ]
  },
  {
   "cell_type": "markdown",
   "metadata": {},
   "source": [
    "## 1. <a id='toc1_'></a>[Introduction](#toc0_)"
   ]
  },
  {
   "cell_type": "markdown",
   "metadata": {},
   "source": [
    "## 2. <a id='toc2_'></a>[Analysis and Simulation of the Problems](#toc0_)\n"
   ]
  },
  {
   "cell_type": "markdown",
   "metadata": {},
   "source": [
    "### 2.1. <a id='toc2_1_'></a>[Guided modes in 1+1=2D systems (TE modes)](#toc0_)\n"
   ]
  },
  {
   "cell_type": "code",
   "execution_count": 10,
   "metadata": {},
   "outputs": [],
   "source": [
    "def guided_modes_1DTE(prm, k0, h):\n",
    "    \"\"\"Computes the effective permittivity of a TE polarized guided eigenmode.\n",
    "    All dimensions are in µm.\n",
    "    Note that modes are filtered to match the requirement that\n",
    "    their effective permittivity is larger than the substrate (cladding).\n",
    "    \n",
    "    Parameters\n",
    "    ----------\n",
    "    prm : 1d-array\n",
    "        Dielectric permittivity in the x-direction\n",
    "    k0 : float\n",
    "        Free space wavenumber\n",
    "    h : float\n",
    "        Spatial discretization\n",
    "    \n",
    "    Returns\n",
    "    -------\n",
    "    eff_eps : 1d-array\n",
    "        Effective permittivity vector of calculated modes\n",
    "    guided : 2d-array\n",
    "        Field distributions of the guided eigenmodes\n",
    "    \"\"\"\n",
    "    pass\n"
   ]
  },
  {
   "cell_type": "markdown",
   "metadata": {},
   "source": [
    "- Define and generate the parameters"
   ]
  },
  {
   "cell_type": "code",
   "execution_count": 11,
   "metadata": {},
   "outputs": [],
   "source": [
    "grid_size     = 120\n",
    "number_points = 601\n",
    "h             = grid_size/(number_points - 1)\n",
    "lam           = 0.78\n",
    "k0            = 2*np.pi/lam\n",
    "e_substrate   = 2.25\n",
    "delta_e       = 1.5e-2\n",
    "w             = 15.0\n",
    "xx            = np.linspace( -grid_size/2, grid_size/2, number_points )\n",
    "prm           = e_substrate + delta_e * np.exp(-(xx/w)**2)\n"
   ]
  },
  {
   "cell_type": "markdown",
   "metadata": {},
   "source": [
    "- Calculation of effective permittivity"
   ]
  },
  {
   "cell_type": "code",
   "execution_count": null,
   "metadata": {},
   "outputs": [],
   "source": []
  },
  {
   "cell_type": "markdown",
   "metadata": {},
   "source": [
    "- Calculation of field distribution"
   ]
  },
  {
   "cell_type": "code",
   "execution_count": null,
   "metadata": {},
   "outputs": [],
   "source": []
  },
  {
   "cell_type": "markdown",
   "metadata": {},
   "source": [
    "#### 2.1.1. <a id='toc2_1_1_'></a>[Discussion of physical properties of numerical solutions](#toc0_)\n",
    "\n",
    "\n",
    "#### 2.1.2. <a id='toc2_1_2_'></a>[Discussion of numerical properties of numerical solutions](#toc0_)"
   ]
  },
  {
   "cell_type": "markdown",
   "metadata": {},
   "source": [
    "### 2.2. <a id='toc2_2_'></a>[Guided modes in 2+1=3D systems (strip waveguide) in scalar approximation](#toc0_)"
   ]
  },
  {
   "cell_type": "code",
   "execution_count": 12,
   "metadata": {},
   "outputs": [],
   "source": [
    "def guided_modes_2D(prm, k0, h, numb):\n",
    "    \"\"\"Computes the effective permittivity of a quasi-TE polarized guided \n",
    "    eigenmode. All dimensions are in µm.\n",
    "    \n",
    "    Parameters\n",
    "    ----------\n",
    "    prm  : 2d-array\n",
    "        Dielectric permittivity in the xy-plane\n",
    "    k0 : float\n",
    "        Free space wavenumber\n",
    "    h : float\n",
    "        Spatial discretization\n",
    "    numb : int\n",
    "        Number of eigenmodes to be calculated\n",
    "    \n",
    "    Returns\n",
    "    -------\n",
    "    eff_eps : 1d-array\n",
    "        Effective permittivity vector of calculated eigenmodes\n",
    "    guided : 3d-array\n",
    "        Field distributions of the guided eigenmodes\n",
    "    \"\"\"\n",
    "    pass"
   ]
  },
  {
   "cell_type": "code",
   "execution_count": 13,
   "metadata": {},
   "outputs": [],
   "source": [
    "grid_size     = 120\n",
    "number_points = 301\n",
    "h             = grid_size/(number_points - 1)\n",
    "lam           = 0.78\n",
    "k0            = 2*np.pi/lam\n",
    "e_substrate   = 2.25\n",
    "delta_e       = 1.5e-2\n",
    "w             = 15.0\n",
    "xx            = np.linspace(-grid_size/2-h,grid_size/2+h,number_points+2)\n",
    "yy            = np.linspace(-grid_size/2,grid_size/2,number_points)\n",
    "XX,YY         = np.meshgrid(xx,yy)\n",
    "prm           = e_substrate + delta_e * np.exp(-(XX**2+YY**2)/w**2)"
   ]
  },
  {
   "cell_type": "markdown",
   "metadata": {},
   "source": [
    "#### 2.2.1. <a id='toc2_2_1_'></a>[Discussion of physical properties of numerical solutions](#toc0_)\n",
    "\n",
    "\n",
    "#### 2.2.2. <a id='toc2_2_2_'></a>[Discussion of numerical properties of numerical solutions](#toc0_)"
   ]
  },
  {
   "cell_type": "markdown",
   "metadata": {},
   "source": [
    "## 3. <a id='toc3_'></a>[Conclusions](#toc0_)"
   ]
  },
  {
   "cell_type": "markdown",
   "metadata": {},
   "source": [
    "## 4. <a id='toc4_'></a>[References](#toc0_)"
   ]
  }
 ],
 "metadata": {
  "kernelspec": {
   "display_name": "Python 3",
   "language": "python",
   "name": "python3"
  },
  "language_info": {
   "codemirror_mode": {
    "name": "ipython",
    "version": 3
   },
   "file_extension": ".py",
   "mimetype": "text/x-python",
   "name": "python",
   "nbconvert_exporter": "python",
   "pygments_lexer": "ipython3",
   "version": "3.11.8"
  }
 },
 "nbformat": 4,
 "nbformat_minor": 2
}
